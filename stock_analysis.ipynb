{
 "cells": [
  {
   "cell_type": "code",
   "execution_count": 189,
   "metadata": {
    "collapsed": false,
    "deletable": true,
    "editable": true
   },
   "outputs": [
    {
     "name": "stderr",
     "output_type": "stream",
     "text": [
      "INFO:bokeh.core.state:Session output file 'cs.html' already exists, will be overwritten.\n"
     ]
    }
   ],
   "source": [
    "from pandas_datareader import data\n",
    "import datetime\n",
    "from bokeh.plotting import figure, show, output_file\n",
    "\n",
    "start = datetime.datetime(2016, 3, 1)\n",
    "end = datetime.datetime(2016, 3, 10)\n",
    "\n",
    "df = data.DataReader(name = \"GOOG\", data_source=\"yahoo\", start = start , end = end)\n",
    "\n",
    "date_increase = df.index[df.Close > df.Open]\n",
    "date_decrease = df.index[df.Close < df.Open]\n",
    "\n",
    "def inc_dec(c, o):\n",
    "    if c > o:\n",
    "        value = \"Increase\"\n",
    "    elif c < o:\n",
    "        value = \"Decrease\"\n",
    "    else:\n",
    "        value = \"Equal\"\n",
    "    return value\n",
    "\n",
    "df[\"Status\"] = [inc_dec(c, o) for c, o in zip(df.Close, df.Open)]\n",
    "df[\"Middle\"] = (df.Open + df.Close) / 2\n",
    "df[\"Height\"] = abs(df.Close - df.Open)\n",
    "\n",
    "p = figure(x_axis_type = \"datetime\", width = 1000, height = 300)\n",
    "p.title.text = \"Candlestick Chart\"\n",
    "hours_12 = 12 * 60 * 60 * 1000\n",
    "\n",
    "p.rect(df.index[df.Status == \"Increase\"], df.Middle[df.Status == \"Increase\"],\n",
    "       hours_12, df.Height[df.Status == \"Increase\"], fill_color = \"green\", line_color = \"black\")\n",
    "\n",
    "p.rect(df.index[df.Status == \"Decrease\"], df.Middle[df.Status == \"Decrease\"],\n",
    "       hours_12, df.Height[df.Status == \"Increase\"], fill_color = \"red\", line_color = \"black\")\n",
    "\n",
    "\n",
    "output_file(\"cs.html\")\n",
    "show(p)"
   ]
  }
 ],
 "metadata": {
  "kernelspec": {
   "display_name": "Python 3",
   "language": "python",
   "name": "python3"
  },
  "language_info": {
   "codemirror_mode": {
    "name": "ipython",
    "version": 3
   },
   "file_extension": ".py",
   "mimetype": "text/x-python",
   "name": "python",
   "nbconvert_exporter": "python",
   "pygments_lexer": "ipython3",
   "version": "3.6.0"
  }
 },
 "nbformat": 4,
 "nbformat_minor": 2
}
